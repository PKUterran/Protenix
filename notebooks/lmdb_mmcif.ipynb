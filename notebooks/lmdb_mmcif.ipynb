{
 "cells": [
  {
   "cell_type": "code",
   "execution_count": 1,
   "metadata": {
    "collapsed": true,
    "ExecuteTime": {
     "end_time": "2024-11-12T09:29:42.635007600Z",
     "start_time": "2024-11-12T09:29:42.624894600Z"
    }
   },
   "outputs": [
    {
     "data": {
      "text/plain": "'/root/code/Protenix'"
     },
     "execution_count": 1,
     "metadata": {},
     "output_type": "execute_result"
    }
   ],
   "source": [
    "import os\n",
    "os.chdir(\"..\")\n",
    "os.getcwd()"
   ]
  },
  {
   "cell_type": "code",
   "execution_count": 2,
   "outputs": [],
   "source": [
    "INPUT_DIR = \"/vepfs/fs_projects/yangsw/af3-dev/release_data/mmcif\"\n",
    "OUTPUT_FILE = \"/vepfs/fs_projects/yangsw/af3-dev/release_data/lmdb/mmcif.lmdb\""
   ],
   "metadata": {
    "collapsed": false,
    "ExecuteTime": {
     "end_time": "2024-11-12T09:29:42.635007600Z",
     "start_time": "2024-11-12T09:29:42.635007600Z"
    }
   }
  },
  {
   "cell_type": "code",
   "execution_count": 3,
   "outputs": [
    {
     "name": "stdout",
     "output_type": "stream",
     "text": [
      "b'100d'\n",
      "95392\n",
      "data_100D\n",
      "# \n",
      "_entry.id   100D \n",
      "# \n",
      "_audit_conform.dict_name       mmcif_pdbx.dic \n",
      "_audit_conform.dict_version    5.381 \n",
      "_audit_conform.dict_location   http://mmcif.pdb.org/dictionaries/ascii/mmcif_pdbx.dic \n",
      "# \n",
      "loop_\n",
      "_database_2.database_id \n",
      "_database_2.database_code \n",
      "_database_2.pdbx_database_accession \n",
      "_database_2.pdbx_DOI \n",
      "PDB   100D         pdb_0000100d 10.2210/pdb100d/pdb \n",
      "RCSB  AHJ060       ?            ?                   \n",
      "WWPDB D_1000170001 ?            ?                   \n",
      "# \n",
      "_pdbx_database_status.status_code                     REL \n",
      "_pdbx_database_status.entry_id                        100D \n",
      "_pdbx_database_status.recvd_initial_deposition_date   1994-12-05 \n",
      "_pdbx_database_status.deposit_site                    BNL \n",
      "_pdbx_database_status.process_site                    NDB \n",
      "_pdbx_database_status.status_code_sf                  REL \n",
      "_pdbx_database_status.status_code_mr                  ? \n",
      "_pdbx_database_status.SG_entry                        ? \n",
      "_pdbx_database_status.pdb_format_com\n"
     ]
    }
   ],
   "source": [
    "import lmdb\n",
    "import gzip\n",
    "\n",
    "env_new = lmdb.open(\n",
    "    OUTPUT_FILE,\n",
    "    subdir=False,\n",
    "    readonly=True,\n",
    "    lock=False,\n",
    "    readahead=False,\n",
    "    meminit=False,\n",
    "    max_readers=126,\n",
    "    map_size=100 * 1024 * 1024 * 1024,\n",
    ")\n",
    "\n",
    "key = None\n",
    "with env_new.begin() as txn:\n",
    "    cursor = txn.cursor()\n",
    "    for key, value in cursor:\n",
    "        print(key)\n",
    "        key = key.decode(\"utf-8\")\n",
    "        value = gzip.decompress(value).decode(\"utf-8\")\n",
    "        print(len(value))\n",
    "        print(value[:1000])\n",
    "        break"
   ],
   "metadata": {
    "collapsed": false,
    "ExecuteTime": {
     "end_time": "2024-11-12T09:29:42.682044200Z",
     "start_time": "2024-11-12T09:29:42.650774Z"
    }
   }
  },
  {
   "cell_type": "code",
   "execution_count": 4,
   "outputs": [
    {
     "name": "stdout",
     "output_type": "stream",
     "text": [
      "95392\n",
      "data_100D\n",
      "# \n",
      "_entry.id   100D \n",
      "# \n",
      "_audit_conform.dict_name       mmcif_pdbx.dic \n",
      "_audit_conform.dict_version    5.381 \n",
      "_audit_conform.dict_location   http://mmcif.pdb.org/dictionaries/ascii/mmcif_pdbx.dic \n",
      "# \n",
      "loop_\n",
      "_database_2.database_id \n",
      "_database_2.database_code \n",
      "_database_2.pdbx_database_accession \n",
      "_database_2.pdbx_DOI \n",
      "PDB   100D         pdb_0000100d 10.2210/pdb100d/pdb \n",
      "RCSB  AHJ060       ?            ?                   \n",
      "WWPDB D_1000170001 ?            ?                   \n",
      "# \n",
      "_pdbx_database_status.status_code                     REL \n",
      "_pdbx_database_status.entry_id                        100D \n",
      "_pdbx_database_status.recvd_initial_deposition_date   1994-12-05 \n",
      "_pdbx_database_status.deposit_site                    BNL \n",
      "_pdbx_database_status.process_site                    NDB \n",
      "_pdbx_database_status.status_code_sf                  REL \n",
      "_pdbx_database_status.status_code_mr                  ? \n",
      "_pdbx_database_status.SG_entry                        ? \n",
      "_pdbx_database_status.pdb_format_com\n"
     ]
    }
   ],
   "source": [
    "assert key is not None\n",
    "with open(os.path.join(INPUT_DIR, f\"{key}.cif\")) as fp:\n",
    "    lines = fp.read()\n",
    "    print(len(lines))\n",
    "    print(lines[:1000])"
   ],
   "metadata": {
    "collapsed": false,
    "ExecuteTime": {
     "end_time": "2024-11-12T09:29:42.682044200Z",
     "start_time": "2024-11-12T09:29:42.682044200Z"
    }
   }
  }
 ],
 "metadata": {
  "kernelspec": {
   "display_name": "Python 3",
   "language": "python",
   "name": "python3"
  },
  "language_info": {
   "codemirror_mode": {
    "name": "ipython",
    "version": 2
   },
   "file_extension": ".py",
   "mimetype": "text/x-python",
   "name": "python",
   "nbconvert_exporter": "python",
   "pygments_lexer": "ipython2",
   "version": "2.7.6"
  }
 },
 "nbformat": 4,
 "nbformat_minor": 0
}
