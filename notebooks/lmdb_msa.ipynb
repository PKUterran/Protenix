{
 "cells": [
  {
   "cell_type": "code",
   "execution_count": 1,
   "metadata": {
    "collapsed": true,
    "ExecuteTime": {
     "end_time": "2024-11-13T05:51:01.835285400Z",
     "start_time": "2024-11-13T05:51:01.816437500Z"
    }
   },
   "outputs": [
    {
     "data": {
      "text/plain": "'/root/code/Protenix'"
     },
     "execution_count": 1,
     "metadata": {},
     "output_type": "execute_result"
    }
   ],
   "source": [
    "import os\n",
    "os.chdir(\"..\")\n",
    "os.getcwd()"
   ]
  },
  {
   "cell_type": "code",
   "execution_count": 2,
   "outputs": [],
   "source": [
    "INPUT_DIR = \"/vepfs/fs_projects/yangsw/af3-dev/release_data/mmcif_msa\"\n",
    "OUTPUT_LMDB_PATH = \"/vepfs/fs_projects/yangsw/af3-dev/release_data/lmdb/mmcif_msa.lmdb\"\n",
    "N_WORKER = 32\n",
    "N_COMMIT = 1000\n",
    "ENCODING = \"utf-8\""
   ],
   "metadata": {
    "collapsed": false,
    "ExecuteTime": {
     "end_time": "2024-11-13T05:51:01.835285400Z",
     "start_time": "2024-11-13T05:51:01.834301600Z"
    }
   }
  },
  {
   "cell_type": "code",
   "execution_count": 3,
   "outputs": [],
   "source": [
    "import lmdb\n",
    "\n",
    "env_new = lmdb.open(\n",
    "    OUTPUT_LMDB_PATH,\n",
    "    subdir=False,\n",
    "    readonly=False,\n",
    "    lock=False,\n",
    "    readahead=False,\n",
    "    meminit=False,\n",
    "    max_readers=126,\n",
    "    map_size=200 * 1024 * 1024 * 1024,\n",
    ")"
   ],
   "metadata": {
    "collapsed": false,
    "ExecuteTime": {
     "end_time": "2024-11-13T05:51:01.883059200Z",
     "start_time": "2024-11-13T05:51:01.835285400Z"
    }
   }
  },
  {
   "cell_type": "code",
   "execution_count": 4,
   "outputs": [
    {
     "name": "stderr",
     "output_type": "stream",
     "text": [
      "100%|████████████| 157202/157202 [00:06<00:00, 24339.25it/s]"
     ]
    },
    {
     "name": "stdout",
     "output_type": "stream",
     "text": [
      "\tTODO 0; FINISHED 157202\n"
     ]
    },
    {
     "name": "stderr",
     "output_type": "stream",
     "text": [
      "\n"
     ]
    }
   ],
   "source": [
    "import gzip\n",
    "import tqdm\n",
    "from typing import Tuple, List\n",
    "from multiprocessing import Pool\n",
    "\n",
    "todo_dir_names, finished_dir_names = [], []\n",
    "with env_new.begin() as txn:\n",
    "    with txn.cursor() as cursor:\n",
    "        def check_processed(_dir_name: str) -> Tuple[str, bool]:\n",
    "            _dir_path = os.path.join(INPUT_DIR, _dir_name)\n",
    "            for _file_name in os.listdir(_dir_path):\n",
    "                _file_key = f\"{_dir_name}-{_file_name}\"\n",
    "                if not cursor.set_key(bytes(_file_key, ENCODING)):\n",
    "                    return _dir_name, False\n",
    "            return _dir_name, True\n",
    "\n",
    "        dir_names = os.listdir(INPUT_DIR)\n",
    "        with Pool(N_WORKER) as pool:\n",
    "            for ret in tqdm.tqdm(pool.imap_unordered(check_processed, dir_names), total=len(dir_names), ncols=60):\n",
    "                cif_name, is_processed = ret\n",
    "                if is_processed:\n",
    "                    finished_dir_names.append(cif_name)\n",
    "                else:\n",
    "                    todo_dir_names.append(cif_name)\n",
    "print(f\"\\tTODO {len(todo_dir_names)}; FINISHED {len(finished_dir_names)}\")"
   ],
   "metadata": {
    "collapsed": false,
    "ExecuteTime": {
     "end_time": "2024-11-13T05:51:08.555038Z",
     "start_time": "2024-11-13T05:51:01.880333300Z"
    }
   }
  },
  {
   "cell_type": "code",
   "execution_count": 5,
   "outputs": [],
   "source": [
    "def process_one(_dir_name: str) -> Tuple[List[Tuple[bytes, bytes]], bool]:\n",
    "    try:\n",
    "        _dir_path = os.path.join(INPUT_DIR, _dir_name)\n",
    "        _tuples = []\n",
    "        for _file_name in os.listdir(_dir_path):\n",
    "            _file_path = os.path.join(_dir_path, _file_name)\n",
    "            _file_key = f\"{_dir_name}-{_file_name}\"\n",
    "            with open(_file_path) as _fp:\n",
    "                a3m_lines = _fp.read()\n",
    "                _tuples.append((bytes(_file_key, ENCODING), gzip.compress(a3m_lines.encode(ENCODING))))\n",
    "        return _tuples, True\n",
    "    except Exception as e:\n",
    "        print(f\"{_dir_name} encounters {e.__class__.__name__}({e})\\n\")\n",
    "        return [], False"
   ],
   "metadata": {
    "collapsed": false,
    "ExecuteTime": {
     "end_time": "2024-11-13T05:51:08.555038Z",
     "start_time": "2024-11-13T05:51:08.555038Z"
    }
   }
  },
  {
   "cell_type": "code",
   "execution_count": 6,
   "outputs": [
    {
     "name": "stderr",
     "output_type": "stream",
     "text": [
      "0it [00:00, ?it/s]\n"
     ]
    }
   ],
   "source": [
    "txn_write = env_new.begin(write=True)\n",
    "i = 0\n",
    "with Pool(N_WORKER) as pool:\n",
    "    for ret in tqdm.tqdm(\n",
    "            pool.imap_unordered(process_one, todo_dir_names),\n",
    "            total=len(todo_dir_names), ncols=60,\n",
    "    ):\n",
    "        tuples, succeed = ret\n",
    "        if succeed:\n",
    "            for key_bytes, value_bytes in tuples:\n",
    "                txn_write.put(key_bytes, value_bytes)\n",
    "        i += 1\n",
    "        if i % N_COMMIT == 0:\n",
    "            txn_write.commit()\n",
    "            txn_write = env_new.begin(write=True)\n",
    "\n",
    "txn_write.commit()\n",
    "env_new.close()"
   ],
   "metadata": {
    "collapsed": false,
    "ExecuteTime": {
     "end_time": "2024-11-13T05:51:08.691492300Z",
     "start_time": "2024-11-13T05:51:08.555038Z"
    }
   }
  },
  {
   "cell_type": "code",
   "execution_count": 7,
   "outputs": [
    {
     "name": "stdout",
     "output_type": "stream",
     "text": [
      "0-mmseqs_other_hits.a3m\n",
      "11\n",
      ">query\n",
      "AAA\n",
      "\n"
     ]
    }
   ],
   "source": [
    "env_new = lmdb.open(\n",
    "    OUTPUT_LMDB_PATH,\n",
    "    subdir=False,\n",
    "    readonly=True,\n",
    "    lock=False,\n",
    "    readahead=False,\n",
    "    meminit=False,\n",
    "    max_readers=126,\n",
    "    map_size=100 * 1024 * 1024 * 1024,\n",
    ")\n",
    "\n",
    "key = None\n",
    "with env_new.begin() as txn:\n",
    "    cursor = txn.cursor()\n",
    "    for key, value in cursor:\n",
    "        key = key.decode(\"utf-8\")\n",
    "        value = gzip.decompress(value).decode(\"utf-8\")\n",
    "        print(key)\n",
    "        print(len(value))\n",
    "        print(value[:1000])\n",
    "        break"
   ],
   "metadata": {
    "collapsed": false,
    "ExecuteTime": {
     "end_time": "2024-11-13T05:51:08.691492300Z",
     "start_time": "2024-11-13T05:51:08.690487200Z"
    }
   }
  },
  {
   "cell_type": "code",
   "execution_count": 8,
   "outputs": [
    {
     "name": "stdout",
     "output_type": "stream",
     "text": [
      "11\n",
      ">query\n",
      "AAA\n",
      "\n"
     ]
    }
   ],
   "source": [
    "assert key is not None\n",
    "dir_name, file_name = key.split(\"-\")\n",
    "with open(os.path.join(INPUT_DIR, dir_name, file_name)) as fp:\n",
    "    lines = fp.read()\n",
    "    print(len(lines))\n",
    "    print(lines[:1000])"
   ],
   "metadata": {
    "collapsed": false,
    "ExecuteTime": {
     "end_time": "2024-11-13T05:51:08.691492300Z",
     "start_time": "2024-11-13T05:51:08.691492300Z"
    }
   }
  },
  {
   "cell_type": "code",
   "execution_count": 9,
   "outputs": [],
   "source": [
    "# for msa_dir_name in os.listdir(INPUT_DIR):\n",
    "#     msa_dir_path = os.path.join(INPUT_DIR, msa_dir_name)\n",
    "#     if not os.path.isdir(msa_dir_path):\n",
    "#         print(msa_dir_path)\n",
    "#     for file_name in os.listdir(msa_dir_path):\n",
    "#         file_path = os.path.join(msa_dir_path, file_name)\n",
    "#         if file_name != \"mmseqs_other_hits.a3m\" and file_name != \"uniref100_hits.a3m\":\n",
    "#             print(file_path)"
   ],
   "metadata": {
    "collapsed": false,
    "ExecuteTime": {
     "end_time": "2024-11-13T05:51:08.691492300Z",
     "start_time": "2024-11-13T05:51:08.691492300Z"
    }
   }
  }
 ],
 "metadata": {
  "kernelspec": {
   "display_name": "Python 3",
   "language": "python",
   "name": "python3"
  },
  "language_info": {
   "codemirror_mode": {
    "name": "ipython",
    "version": 2
   },
   "file_extension": ".py",
   "mimetype": "text/x-python",
   "name": "python",
   "nbconvert_exporter": "python",
   "pygments_lexer": "ipython2",
   "version": "2.7.6"
  }
 },
 "nbformat": 4,
 "nbformat_minor": 0
}
