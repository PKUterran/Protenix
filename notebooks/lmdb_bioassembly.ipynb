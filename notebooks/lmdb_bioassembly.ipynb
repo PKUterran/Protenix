{
 "cells": [
  {
   "cell_type": "code",
   "execution_count": 1,
   "metadata": {
    "collapsed": true,
    "ExecuteTime": {
     "end_time": "2024-11-13T06:25:01.139495700Z",
     "start_time": "2024-11-13T06:25:01.123799500Z"
    }
   },
   "outputs": [
    {
     "data": {
      "text/plain": "'/root/code/Protenix'"
     },
     "execution_count": 1,
     "metadata": {},
     "output_type": "execute_result"
    }
   ],
   "source": [
    "import os\n",
    "os.chdir(\"..\")\n",
    "os.getcwd()"
   ]
  },
  {
   "cell_type": "code",
   "execution_count": 2,
   "outputs": [],
   "source": [
    "INPUT_DIR = \"/vepfs/fs_projects/yangsw/af3-dev/release_data/mmcif_bioassembly\"\n",
    "OUTPUT_LMDB_PATH = \"/vepfs/fs_projects/yangsw/af3-dev/release_data/lmdb/mmcif_bioassembly.lmdb\"\n",
    "N_COMMIT = 1000\n",
    "ENCODING = \"utf-8\""
   ],
   "metadata": {
    "collapsed": false,
    "ExecuteTime": {
     "end_time": "2024-11-13T06:25:01.139495700Z",
     "start_time": "2024-11-13T06:25:01.139495700Z"
    }
   }
  },
  {
   "cell_type": "code",
   "execution_count": 3,
   "outputs": [],
   "source": [
    "import lmdb\n",
    "\n",
    "env_new = lmdb.open(\n",
    "    OUTPUT_LMDB_PATH,\n",
    "    subdir=False,\n",
    "    readonly=False,\n",
    "    lock=False,\n",
    "    readahead=False,\n",
    "    meminit=False,\n",
    "    max_readers=126,\n",
    "    map_size=50 * 1024 * 1024 * 1024,\n",
    ")"
   ],
   "metadata": {
    "collapsed": false,
    "ExecuteTime": {
     "end_time": "2024-11-13T06:25:01.186941500Z",
     "start_time": "2024-11-13T06:25:01.139495700Z"
    }
   }
  },
  {
   "cell_type": "code",
   "execution_count": 4,
   "outputs": [
    {
     "name": "stderr",
     "output_type": "stream",
     "text": [
      "100%|███████████| 219912/219912 [00:01<00:00, 141837.68it/s]"
     ]
    },
    {
     "name": "stdout",
     "output_type": "stream",
     "text": [
      "\tTODO 0; FINISHED 219912\n"
     ]
    },
    {
     "name": "stderr",
     "output_type": "stream",
     "text": [
      "\n"
     ]
    }
   ],
   "source": [
    "import gzip\n",
    "import tqdm\n",
    "from typing import Tuple, List\n",
    "\n",
    "ba_file_names = os.listdir(INPUT_DIR)\n",
    "todo_cif_names, finished_cif_names = [], []\n",
    "with env_new.begin() as txn:\n",
    "    with txn.cursor() as cursor:\n",
    "        for file_name in tqdm.tqdm(ba_file_names, total=len(ba_file_names), ncols=60):\n",
    "            cif_name = file_name[:4]\n",
    "            if cursor.set_key(bytes(cif_name, ENCODING)):\n",
    "                finished_cif_names.append(cif_name)\n",
    "            else:\n",
    "                todo_cif_names.append(cif_name)\n",
    "print(f\"\\tTODO {len(todo_cif_names)}; FINISHED {len(finished_cif_names)}\")"
   ],
   "metadata": {
    "collapsed": false,
    "ExecuteTime": {
     "end_time": "2024-11-13T06:25:02.897328100Z",
     "start_time": "2024-11-13T06:25:01.186941500Z"
    }
   }
  },
  {
   "cell_type": "code",
   "execution_count": 5,
   "outputs": [
    {
     "name": "stderr",
     "output_type": "stream",
     "text": [
      "0it [00:00, ?it/s]\n"
     ]
    }
   ],
   "source": [
    "txn_write = env_new.begin(write=True)\n",
    "i = 0\n",
    "for cif_name in tqdm.tqdm(todo_cif_names, total=len(todo_cif_names), ncols=60):\n",
    "    key_bytes = bytes(cif_name, ENCODING)\n",
    "    with open(os.path.join(INPUT_DIR, f\"{cif_name}.pkl.gz\"), \"rb\") as fp:\n",
    "        value_bytes = fp.read()\n",
    "    txn_write.put(key_bytes, value_bytes)\n",
    "    i += 1\n",
    "    if i % N_COMMIT == 0:\n",
    "        txn_write.commit()\n",
    "        txn_write = env_new.begin(write=True)\n",
    "\n",
    "txn_write.commit()\n",
    "env_new.close()"
   ],
   "metadata": {
    "collapsed": false,
    "ExecuteTime": {
     "end_time": "2024-11-13T06:25:02.897328100Z",
     "start_time": "2024-11-13T06:25:02.888888600Z"
    }
   }
  },
  {
   "cell_type": "code",
   "execution_count": 6,
   "outputs": [
    {
     "name": "stdout",
     "output_type": "stream",
     "text": [
      "100d\n",
      "dict_keys(['pdb_id', 'sequences', 'release_date', 'assembly_id', 'num_assembly_polymer_chains', 'num_prot_chains', 'entity_poly_type', 'resolution', 'atom_array', 'num_tokens', 'msa_features', 'template_features', 'token_array'])\n",
      "    A0      1  C   OP3    O         0.000    0.000    0.000\n",
      "    A0      1  C   P      P         0.000    0.000    0.000\n",
      "    A0      1  C   OP1    O         0.000    0.000    0.000\n",
      "    A0      1  C   OP2    O         0.000    0.000    0.000\n",
      "    A0      1  C   O5'    O        -4.549    5.095    4.262\n",
      "    A0      1  C   C5'    C        -4.176    6.323    3.646\n",
      "    A0      1  C   C4'    C        -3.853    7.410    4.672\n",
      "    A0      1  C   O4'    O        -4.992    7.650    5.512\n",
      "    A0      1  C   C3'    C        -2.713    7.010    5.605\n",
      "    A0      1  C   O3'    O        -1.379    7.127    5.060\n",
      "    A0      1  C   C2'    C        -2.950    7.949    6.756\n",
      "    A0      1  C   O2'    O        -2.407    9.267    6.554\n",
      "    A0      1  C   C1'    C        -4.489    7.917    6.825\n",
      "    A0      1  C   N1     N        -4.931    6.902    7.826\n",
      "    A0      1  C   C2     C        -4.838    7.263    9.158\n",
      "    A0      1  C   O2     O        -4.287    8.308    9.505\n",
      "    A0      1  C   N3     N        -5.367    6.448   10.085\n",
      "    A0      1  C   C4     C        -5.978    5.310    9.736\n",
      "    A0      1  C   N4     N        -6.592    4.588   10.676\n",
      "    A0      1  C   C5     C        -6.059    4.907    8.376\n"
     ]
    }
   ],
   "source": [
    "import pickle\n",
    "\n",
    "env_new = lmdb.open(\n",
    "    OUTPUT_LMDB_PATH,\n",
    "    subdir=False,\n",
    "    readonly=True,\n",
    "    lock=False,\n",
    "    readahead=False,\n",
    "    meminit=False,\n",
    "    max_readers=126,\n",
    "    map_size=100 * 1024 * 1024 * 1024,\n",
    ")\n",
    "\n",
    "key = None\n",
    "with env_new.begin() as txn:\n",
    "    cursor = txn.cursor()\n",
    "    for key, value in cursor:\n",
    "        key = key.decode(\"utf-8\")\n",
    "        value = pickle.loads(gzip.decompress(value))\n",
    "        print(key)\n",
    "        print(value.keys())\n",
    "        print(value[\"atom_array\"][:20])\n",
    "        break"
   ],
   "metadata": {
    "collapsed": false,
    "ExecuteTime": {
     "end_time": "2024-11-13T06:25:03.537040400Z",
     "start_time": "2024-11-13T06:25:02.888888600Z"
    }
   }
  },
  {
   "cell_type": "code",
   "execution_count": 7,
   "outputs": [
    {
     "name": "stdout",
     "output_type": "stream",
     "text": [
      "dict_keys(['pdb_id', 'sequences', 'release_date', 'assembly_id', 'num_assembly_polymer_chains', 'num_prot_chains', 'entity_poly_type', 'resolution', 'atom_array', 'num_tokens', 'msa_features', 'template_features', 'token_array'])\n",
      "    A0      1  C   OP3    O         0.000    0.000    0.000\n",
      "    A0      1  C   P      P         0.000    0.000    0.000\n",
      "    A0      1  C   OP1    O         0.000    0.000    0.000\n",
      "    A0      1  C   OP2    O         0.000    0.000    0.000\n",
      "    A0      1  C   O5'    O        -4.549    5.095    4.262\n",
      "    A0      1  C   C5'    C        -4.176    6.323    3.646\n",
      "    A0      1  C   C4'    C        -3.853    7.410    4.672\n",
      "    A0      1  C   O4'    O        -4.992    7.650    5.512\n",
      "    A0      1  C   C3'    C        -2.713    7.010    5.605\n",
      "    A0      1  C   O3'    O        -1.379    7.127    5.060\n",
      "    A0      1  C   C2'    C        -2.950    7.949    6.756\n",
      "    A0      1  C   O2'    O        -2.407    9.267    6.554\n",
      "    A0      1  C   C1'    C        -4.489    7.917    6.825\n",
      "    A0      1  C   N1     N        -4.931    6.902    7.826\n",
      "    A0      1  C   C2     C        -4.838    7.263    9.158\n",
      "    A0      1  C   O2     O        -4.287    8.308    9.505\n",
      "    A0      1  C   N3     N        -5.367    6.448   10.085\n",
      "    A0      1  C   C4     C        -5.978    5.310    9.736\n",
      "    A0      1  C   N4     N        -6.592    4.588   10.676\n",
      "    A0      1  C   C5     C        -6.059    4.907    8.376\n"
     ]
    }
   ],
   "source": [
    "assert key is not None\n",
    "with open(os.path.join(INPUT_DIR, f\"{key}.pkl.gz\"), \"rb\") as fp:\n",
    "    value = pickle.loads(gzip.decompress(fp.read()))\n",
    "    print(value.keys())\n",
    "    print(value[\"atom_array\"][:20])"
   ],
   "metadata": {
    "collapsed": false,
    "ExecuteTime": {
     "end_time": "2024-11-13T06:25:03.584082300Z",
     "start_time": "2024-11-13T06:25:03.537040400Z"
    }
   }
  }
 ],
 "metadata": {
  "kernelspec": {
   "display_name": "Python 3",
   "language": "python",
   "name": "python3"
  },
  "language_info": {
   "codemirror_mode": {
    "name": "ipython",
    "version": 2
   },
   "file_extension": ".py",
   "mimetype": "text/x-python",
   "name": "python",
   "nbconvert_exporter": "python",
   "pygments_lexer": "ipython2",
   "version": "2.7.6"
  }
 },
 "nbformat": 4,
 "nbformat_minor": 0
}
